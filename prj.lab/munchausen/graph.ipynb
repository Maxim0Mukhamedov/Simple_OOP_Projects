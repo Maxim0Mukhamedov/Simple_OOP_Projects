{
 "cells": [
  {
   "cell_type": "markdown",
   "id": "a5d2bcd9",
   "metadata": {},
   "source": [
    "## Подключение библиотек для работы с CSV и графиками."
   ]
  },
  {
   "cell_type": "code",
   "execution_count": 209,
   "id": "0f0a3695",
   "metadata": {},
   "outputs": [],
   "source": [
    "import seaborn as sns\n",
    "import pandas as pd\n",
    "import matplotlib.pyplot as plt\n",
    "import os"
   ]
  },
  {
   "cell_type": "code",
   "execution_count": 296,
   "id": "651fb113",
   "metadata": {},
   "outputs": [],
   "source": [
    "# Словарь настроек.\n",
    "\n",
    "dic = [\n",
    "    \"TYPE_TEST\",\n",
    "    \"SAMPLING_FREQUENCY\",\n",
    "    \"SAMPLING_FREQUENCY_SPEED\",\n",
    "    \"ACCELERATION_FREE_THROW\",\n",
    "    \"HORISONTAL_DIFFERENCE_BETWEEN_CANNONS\",\n",
    "    \"VERTICAL_DIFFERENCE_VETWEEN_CANNONS\",\n",
    "    \"VERTICAL_SPEED_AD\",\n",
    "    \"HORISONTAL_SPEED_AD\",\n",
    "    \"VERTICAL_SPEED_OF\",\n",
    "    \"HORISONTAL_SPEED_OF\",\n",
    "    \"V_MIN\",\n",
    "    \"V_MAX\",\n",
    "]"
   ]
  },
  {
   "cell_type": "code",
   "execution_count": 211,
   "id": "2db4c28a",
   "metadata": {},
   "outputs": [],
   "source": [
    "# Функции по изменению и чтению конфигурации.\n",
    "\n",
    "def SetUpSet (s,k):\n",
    "    with open ('config.txt', 'r') as f:\n",
    "      old_data = f.read()\n",
    "    inds = old_data.find(s)\n",
    "    indf = old_data.find(s) + len(s)\n",
    "    while old_data[indf] != '\\n':\n",
    "        indf += 1;\n",
    "    new_data = old_data.replace(old_data[inds:indf],s + \"=\" + str(k)) \n",
    "    with open ('config.txt', 'w') as f:\n",
    "        f.write(new_data)\n",
    "        \n",
    "def KnowSet(s):\n",
    "    with open ('config.txt', 'r') as f:\n",
    "      old_data = f.read()\n",
    "    inds = old_data.find(s)\n",
    "    indf = old_data.find(s) + len(s)\n",
    "    while old_data[indf] != '\\n':\n",
    "        indf += 1;\n",
    "    s = old_data[inds:indf]\n",
    "    return float(s[s.find('=') + 1:])\n"
   ]
  },
  {
   "cell_type": "code",
   "execution_count": 233,
   "id": "9b68c006",
   "metadata": {},
   "outputs": [],
   "source": [
    "# Запуск изменений конфигураций.\n",
    "\n",
    "def start(x):\n",
    "    with open ('config.txt', 'r') as f:\n",
    "      data = f.read()\n",
    "    print(data)\n",
    "    print()\n",
    "    for i in range(x):\n",
    "        print(\"Введите номер команды:\", end = ' ')\n",
    "        n = int(input())\n",
    "        if n == 13:\n",
    "            for i in dic:\n",
    "                print(i,'=')\n",
    "                k = float(input())\n",
    "                SetUpSet(i,k)\n",
    "        else:\n",
    "            s = dic[n - 1]\n",
    "            print(s,'=', end = ' ')\n",
    "            k = float(input())\n",
    "            SetUpSet(s,k)\n",
    "    print()\n",
    "    with open ('config.txt', 'r') as f:\n",
    "      data = f.read()\n",
    "    os.system(\"clear\")\n",
    "    print(data)\n",
    "    "
   ]
  },
  {
   "cell_type": "code",
   "execution_count": 305,
   "id": "d987e0e6",
   "metadata": {
    "scrolled": false
   },
   "outputs": [],
   "source": [
    "#Построение графиков на основе выбронного типа исследования.\n",
    "\n",
    "def GetGraph():\n",
    "    type = KnowSet(dic[0])\n",
    "\n",
    "    if type == 1:\n",
    "        s = 'Find_hit_settings'\n",
    "    else:\n",
    "        s = 'Try_hit_settings'\n",
    "\n",
    "    with open(s + '/report.txt', 'r') as f:\n",
    "        n = int(f.readline())\n",
    "        for i in range(n):\n",
    "            print(\"Координаты вектора скорости\",i + 1,\"решения:\",str(f.readline()))\n",
    "    \n",
    "    k = n//2\n",
    "\n",
    "    plt.rcParams ['figure.figsize'] = [10, 6]\n",
    "\n",
    "    for i in range(n):\n",
    "    \n",
    "        file = s + '/file' + str(i) + '.csv'\n",
    "        many_factors = pd.read_csv(file)\n",
    "\n",
    "        plt.subplot(k + 1, 2, i + 1)\n",
    "\n",
    "        sns.lineplot(x = many_factors['A'], y = many_factors['B'])\n",
    "        sns.lineplot(x = many_factors['C'], y = many_factors['D'])\n",
    "\n"
   ]
  },
  {
   "cell_type": "markdown",
   "id": "c5bc80e1",
   "metadata": {},
   "source": [
    "# Настройка.\n",
    "\n",
    "### Управление изменением конфигурационного файла:\n",
    "\n",
    "> Управление конфигурационным файлом выполняется по следующему алгоритму:\n",
    ">\n",
    "> * выбор номера команды из ниже представленного списка\n",
    "> * изменения значения\n",
    "\n",
    "### Список команд:\n",
    "\n",
    "1. Изменить тип теста (0 - тест заданных значений, 1 - поиск параметров успешной защиты);\n",
    "1. Изменить частоту дискритизации;\n",
    "1. Изменить частоту дискритизации в поиске скоростей;\n",
    "1. Изменить ускорение свободного падения;\n",
    "1. Изменить горизонтальное рассояние между пушками;\n",
    "1. Изменить вертикальное рассояние между пушками;\n",
    "1. Изменить вертикальную скорость обороны;\n",
    "1. Изменить горизонтальную скорость обороны;\n",
    "1. Изменить вертикальную скорость атаки;\n",
    "1. Изменить горизонтальную скорость атаки;\n",
    "1. Минимальная скорость (возможны отрицательные значения);\n",
    "1. Максимальная скорость;\n",
    "1. Изменить все значения."
   ]
  },
  {
   "cell_type": "code",
   "execution_count": 311,
   "id": "0acd94e4",
   "metadata": {},
   "outputs": [
    {
     "name": "stdout",
     "output_type": "stream",
     "text": [
      "Введите ко-во команд: 1\n",
      "SAMPLING_FREQUENCY=0.1\n",
      "ACCELERATION_FREE_THROW=9.8\n",
      "HORISONTAL_DIFFERENCE_BETWEEN_CANNONS=10.0\n",
      "VERTICAL_DIFFERENCE_VETWEEN_CANNONS=0.0\n",
      "VERTICAL_SPEED_AD=4\n",
      "HORISONTAL_SPEED_AD=7\n",
      "VERTICAL_SPEED_OF=-20.0\n",
      "HORISONTAL_SPEED_OF=5.0\n",
      "TYPE_TEST=1.0\n",
      "SAMPLING_FREQUENCY_SPEED=0.1\n",
      "V_MIN=-10.0\n",
      "V_MAX=10\n",
      "\n",
      "Введите номер команды: 1\n",
      "TYPE_TEST = 0\n",
      "\n",
      "SAMPLING_FREQUENCY=0.1\n",
      "ACCELERATION_FREE_THROW=9.8\n",
      "HORISONTAL_DIFFERENCE_BETWEEN_CANNONS=10.0\n",
      "VERTICAL_DIFFERENCE_VETWEEN_CANNONS=0.0\n",
      "VERTICAL_SPEED_AD=4\n",
      "HORISONTAL_SPEED_AD=7\n",
      "VERTICAL_SPEED_OF=-20.0\n",
      "HORISONTAL_SPEED_OF=5.0\n",
      "TYPE_TEST=0.0\n",
      "SAMPLING_FREQUENCY_SPEED=0.1\n",
      "V_MIN=-10.0\n",
      "V_MAX=10\n"
     ]
    }
   ],
   "source": [
    "# ИЗМЕНЕНИЕ КОНФИГУРАЦИИ!!!\n",
    "print(\"Введите ко-во команд:\", end= ' ')\n",
    "start(int(input()))"
   ]
  },
  {
   "cell_type": "markdown",
   "id": "869e6644",
   "metadata": {},
   "source": [
    "## Сборка и запуск C++ кода.\n",
    "\n",
    "Строки этого блока могут отличатся в зависимости от способа сборки."
   ]
  },
  {
   "cell_type": "code",
   "execution_count": 312,
   "id": "2df08ae3",
   "metadata": {
    "scrolled": true
   },
   "outputs": [
    {
     "name": "stdout",
     "output_type": "stream",
     "text": [
      "-- Configuring done\n",
      "-- Generating done\n",
      "-- Build files have been written to: D:/CLionProjects/Munchausen/cmake-build-debug\n",
      "ninja: no work to do.\n"
     ]
    }
   ],
   "source": [
    "!rd .\\Find_hit_settings\\ /s /q\n",
    "!rd .\\Try_hit_settings\\ /s /q\n",
    "!mkdir Find_hit_settings\n",
    "!mkdir Try_hit_settings\n",
    "!\"D:\\CLion 2022.2.3\\bin\\cmake\\win\\bin\\cmake.exe\" -DCMAKE_BUILD_TYPE=Debug \"-DCMAKE_MAKE_PROGRAM=D:/CLion 2022.2.3/bin/ninja/win/ninja.exe\" -G Ninja -S D:\\CLionProjects\\Munchausen -B D:\\CLionProjects\\Munchausen\\cmake-build-debug\n",
    "!\"D:\\CLion 2022.2.3\\bin\\cmake\\win\\bin\\cmake.exe\" --build D:\\CLionProjects\\Munchausen\\cmake-build-debug --target AD -j 6\n",
    "!D:\\CLionProjects\\Munchausen\\AD.exe -static -static-libgcc -static-libstdc++ -g -static-libgcc -static-libstdc++"
   ]
  },
  {
   "cell_type": "markdown",
   "id": "e1d00a71",
   "metadata": {},
   "source": [
    "# Вывод графиков.\n",
    "\n",
    "* ### Голубая линия - Защита.\n",
    "* ### Оранжевая линия - Атака."
   ]
  },
  {
   "cell_type": "code",
   "execution_count": 313,
   "id": "3febf642",
   "metadata": {},
   "outputs": [
    {
     "name": "stdout",
     "output_type": "stream",
     "text": [
      "Координаты вектора скорости 1 решения: 4.000000,7.000000\n"
     ]
    },
    {
     "data": {
      "image/png": "[encoded data removed]",
      "text/plain": [
       "<Figure size 1000x600 with 1 Axes>"
      ]
     },
     "metadata": {},
     "output_type": "display_data"
    }
   ],
   "source": [
    "GetGraph()"
   ]
  },
  {
   "cell_type": "code",
   "execution_count": null,
   "id": "82216b4b",
   "metadata": {},
   "outputs": [],
   "source": []
  }
 ],
 "metadata": {
  "kernelspec": {
   "display_name": "Python 3 (ipykernel)",
   "language": "python",
   "name": "python3"
  },
  "language_info": {
   "codemirror_mode": {
    "name": "ipython",
    "version": 3
   },
   "file_extension": ".py",
   "mimetype": "text/x-python",
   "name": "python",
   "nbconvert_exporter": "python",
   "pygments_lexer": "ipython3",
   "version": "3.10.5"
  }
 },
 "nbformat": 4,
 "nbformat_minor": 5
}
